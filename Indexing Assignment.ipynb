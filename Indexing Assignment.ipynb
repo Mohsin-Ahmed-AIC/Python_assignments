{
 "cells": [
  {
   "cell_type": "code",
   "execution_count": 1,
   "metadata": {},
   "outputs": [
    {
     "name": "stdout",
     "output_type": "stream",
     "text": [
      "first child name: Ashar Nasir \n",
      "last child name: Sarfaraz Nasir \n",
      "first child name: Ashar Kamran\n",
      "last child name: Sarfaraz Kamran\n",
      "first child name: Ashar Shaikh\n",
      "last child name: Sarfaraz Shaikh\n",
      "first child name: Ashar Qazi\n",
      "last child name: Sarfaraz Qazi\n"
     ]
    }
   ],
   "source": [
    "# Original Code\n",
    "#mithai kaa daba, 4 gulab jamun, 4 ras gullay, 4 qalaqan, 4 laddu\n",
    "father_names = [\"Nasir \", \"Kamran\", \"Shaikh\", \"Qazi\"]\n",
    "children_names = [\"Ashar\", \"Zaraan\", \"Kashaan\", \"Sarfaraz\"]\n",
    "full_names = []\n",
    "index =0\n",
    "#last  =3\n",
    "for father_name in father_names:\n",
    "    for child_name in children_names:\n",
    "        full_names.append(child_name + \" \" + father_name )\n",
    "  \n",
    "    print(\"first child name:\", full_names[index])\n",
    "    #print(\"last child name:\", full_names[last])\n",
    "    print(\"last child name:\", full_names[-1])\n",
    "    #print(full_names)    \n",
    "    index += 4\n",
    "    #last  += 4"
   ]
  },
  {
   "cell_type": "code",
   "execution_count": 4,
   "metadata": {},
   "outputs": [
    {
     "name": "stdout",
     "output_type": "stream",
     "text": [
      "First child name:  Ashar Nasir \n",
      "Second child name: Zaraan Nasir \n",
      "Third child name:  Kashaan Nasir \n",
      "Last child name:   Sarfaraz Nasir  \n",
      "\n",
      "First child name:  Ashar Kamran\n",
      "Second child name: Zaraan Kamran\n",
      "Third child name:  Kashaan Kamran\n",
      "Last child name:   Sarfaraz Kamran \n",
      "\n",
      "First child name:  Ashar Shaikh\n",
      "Second child name: Zaraan Shaikh\n",
      "Third child name:  Kashaan Shaikh\n",
      "Last child name:   Sarfaraz Shaikh \n",
      "\n",
      "First child name:  Ashar Qazi\n",
      "Second child name: Zaraan Qazi\n",
      "Third child name:  Kashaan Qazi\n",
      "Last child name:   Sarfaraz Qazi \n",
      "\n",
      "['Ashar Nasir ', 'Zaraan Nasir ', 'Kashaan Nasir ', 'Sarfaraz Nasir ', 'Ashar Kamran', 'Zaraan Kamran', 'Kashaan Kamran', 'Sarfaraz Kamran', 'Ashar Shaikh', 'Zaraan Shaikh', 'Kashaan Shaikh', 'Sarfaraz Shaikh', 'Ashar Qazi', 'Zaraan Qazi', 'Kashaan Qazi', 'Sarfaraz Qazi']\n"
     ]
    }
   ],
   "source": [
    "# Updated Code\n",
    "\n",
    "# AIC035346\n",
    "\n",
    "# Accessing Second (2nd) & Third (3rd) Values in the list\n",
    "\n",
    "father_names = [\"Nasir \", \"Kamran\", \"Shaikh\", \"Qazi\"]\n",
    "children_names = [\"Ashar\", \"Zaraan\", \"Kashaan\", \"Sarfaraz\"]\n",
    "full_names = []\n",
    "index = 0\n",
    "# last = 3\n",
    "for father_name in father_names:\n",
    "    for child_name in children_names:\n",
    "        full_names.append(child_name + \" \" + father_name )  \n",
    "    print(\"First child name: \", full_names[index])\n",
    "    print(\"Second child name:\", full_names[index + 1])\n",
    "    print(\"Third child name: \", full_names[index + 2])\n",
    "    print(\"Last child name:  \", full_names[index + 3], \"\\n\")\n",
    "    index += 4\n",
    "print(full_names)"
   ]
  }
 ],
 "metadata": {
  "kernelspec": {
   "display_name": "Python 3",
   "language": "python",
   "name": "python3"
  },
  "language_info": {
   "codemirror_mode": {
    "name": "ipython",
    "version": 3
   },
   "file_extension": ".py",
   "mimetype": "text/x-python",
   "name": "python",
   "nbconvert_exporter": "python",
   "pygments_lexer": "ipython3",
   "version": "3.7.2"
  }
 },
 "nbformat": 4,
 "nbformat_minor": 2
}
