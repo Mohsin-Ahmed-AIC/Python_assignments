{
 "cells": [
  {
   "cell_type": "markdown",
   "metadata": {},
   "source": [
    "# PIAIC AI Q1 Python Assignment\n",
    "\n",
    "Mohsin Ahmed\n",
    "AIC 035346"
   ]
  },
  {
   "cell_type": "code",
   "execution_count": 1,
   "metadata": {},
   "outputs": [
    {
     "name": "stdout",
     "output_type": "stream",
     "text": [
      "Please enter the radius of circle: 0.5\n",
      "\n",
      "Formula for calculating the area of Circle\n",
      "\tA = pi * (r ** 2)\n",
      "\n",
      "The area of the circle having radius 0.50 is = 0.79.\n"
     ]
    }
   ],
   "source": [
    "# Q-1 - Area of Circle\n",
    "\n",
    "import math\n",
    "\n",
    "radius = float(input(\"Please enter the radius of circle: \"))\n",
    "pi = math.pi\n",
    "A = pi * (radius ** 2)\n",
    "print(\"\\nFormula for calculating the area of Circle\\n\\tA = pi * (r ** 2)\")\n",
    "print(\"\\nThe area of the circle having radius \" + (\"{0:.2f}\".format(radius)) + \" is = \" + (\"{0:.2f}\".format(A)) + \".\")"
   ]
  },
  {
   "cell_type": "code",
   "execution_count": 2,
   "metadata": {},
   "outputs": [
    {
     "name": "stdout",
     "output_type": "stream",
     "text": [
      "Please enter a number to check: -1\n",
      "The number you have entered is Negative.\n"
     ]
    }
   ],
   "source": [
    "# Q-2 - Number Checking\n",
    "\n",
    "number = int(input(\"Please enter a number to check: \"))\n",
    "if number > 0:\n",
    "    print(\"The number you have entered is Positive.\")\n",
    "elif number == 0:\n",
    "    print(\"The number you have entered is Zero.\")\n",
    "else:\n",
    "    print(\"The number you have entered is Negative.\")"
   ]
  },
  {
   "cell_type": "code",
   "execution_count": 3,
   "metadata": {},
   "outputs": [
    {
     "name": "stdout",
     "output_type": "stream",
     "text": [
      "Please enter the first number: 4\n",
      "Please enter the second number: 2\n",
      "\n",
      "The first number i.e. 4.0 is completely divisible by second number i.e. 2.0.\n"
     ]
    }
   ],
   "source": [
    "# Q-3 - Divisibility Check\n",
    "\n",
    "def mod(num1,num2):\n",
    "    if num1 % num2 == 0:\n",
    "        print(\"\\nThe first number i.e. \" + str(num1) + \" is completely divisible by second number i.e. \" + \n",
    "             str(num2) + \".\")\n",
    "    else:\n",
    "        print(\"\\nThe first number i.e. \" + str(num1) + \" is not completely divisible by second number i.e. \" + \n",
    "             str(num2) + \".\")\n",
    "first = float(input(\"Please enter the first number: \"))\n",
    "second = float(input(\"Please enter the second number: \"))\n",
    "mod(first,second)"
   ]
  },
  {
   "cell_type": "code",
   "execution_count": 4,
   "metadata": {},
   "outputs": [
    {
     "name": "stdout",
     "output_type": "stream",
     "text": [
      "Enter a date in (dd/mm/yy) format: 12/12/2018\n",
      "Enter a date in (dd/mm/yy) format: 16/12/2018\n",
      "\n",
      "There are 4 days in between 12/12/2018 and 16/12/2018.\n"
     ]
    }
   ],
   "source": [
    "# Q-4 - Days Calculator\n",
    "\n",
    "from datetime import datetime\n",
    "\n",
    "date_format = \"%d/%m/%Y\"\n",
    "start_date = input(\"Enter a date in (dd/mm/yy) format: \")\n",
    "end_date = input(\"Enter a date in (dd/mm/yy) format: \")\n",
    "a = datetime.strptime(start_date, date_format)\n",
    "b = datetime.strptime(end_date, date_format)\n",
    "delta = b - a\n",
    "print(\"\\nThere are \" + str(delta.days) + \" days in between \" + start_date + \" and \" + end_date + \".\")"
   ]
  },
  {
   "cell_type": "code",
   "execution_count": 6,
   "metadata": {},
   "outputs": [
    {
     "name": "stdout",
     "output_type": "stream",
     "text": [
      "Please enter the radius of circle: 1\n",
      "\n",
      "Formula for calculating the area of Circle\n",
      "\tV = (4 / 3 ) * pi * (r ** 3)\n",
      "\n",
      "The volume of the sphere having radius 1.00 is = 4.19.\n"
     ]
    }
   ],
   "source": [
    "# Q-5 - Volume of a sphere\n",
    "\n",
    "import math\n",
    "\n",
    "radius_s = float(input(\"Please enter the radius of circle: \"))\n",
    "pi = math.pi\n",
    "V = (4 / 3 ) * pi * (radius_s ** 3)\n",
    "print(\"\\nFormula for calculating the area of Circle\\n\\tV = (4 / 3 ) * pi * (r ** 3)\")\n",
    "print(\"\\nThe volume of the sphere having radius \" + \n",
    "      (\"{0:.2f}\".format(radius_s)) + \" is = \" + (\"{0:.2f}\".format(V)) + \".\")"
   ]
  },
  {
   "cell_type": "code",
   "execution_count": 7,
   "metadata": {},
   "outputs": [
    {
     "name": "stdout",
     "output_type": "stream",
     "text": [
      "Please enter the string: Hi\n",
      "How many copies of String you need: 4\n",
      "The entered word is Hi and repeated 4 times: HiHiHiHi\n"
     ]
    }
   ],
   "source": [
    "# Q-6 - String N Times\n",
    "\n",
    "word = input(\"Please enter the string: \")\n",
    "n_time = int(input(\"How many copies of String you need: \"))\n",
    "if n_time >= 0:\n",
    "    print(\"The entered word is \" + word + \" and repeated \" + str(n_time) + \" times:\", word * n_time)\n",
    "else:\n",
    "    print(\"Please try again with even number.\")"
   ]
  },
  {
   "cell_type": "code",
   "execution_count": 8,
   "metadata": {},
   "outputs": [
    {
     "name": "stdout",
     "output_type": "stream",
     "text": [
      "Please enter any integer to check whether it is even or odd: 9\n",
      "The number you have entered is: 9.\n",
      "And it is an odd number.\n"
     ]
    }
   ],
   "source": [
    "# Q-7 - Evem or Odd\n",
    "\n",
    "number = int(input(\"Please enter any integer to check whether it is even or odd: \"))\n",
    "if (number % 2) == 0:\n",
    "    print(\"The number you have entered is: \" + str(number) + \".\\nAnd it is an even number.\" )\n",
    "else:\n",
    "    print(\"The number you have entered is: \" + str(number) + \".\\nAnd it is an odd number.\" )"
   ]
  },
  {
   "cell_type": "code",
   "execution_count": 9,
   "metadata": {},
   "outputs": [
    {
     "name": "stdout",
     "output_type": "stream",
     "text": [
      "Enter any English Alphabet: A\n",
      "Letter A is Vowel.\n"
     ]
    }
   ],
   "source": [
    "# Q-8 - Vowel Tester\n",
    "\n",
    "vowel = [\"a\", \"e\", \"i\", \"o\", \"u\"]\n",
    "letter = input(\"Enter any English Alphabet: \")\n",
    "if letter.lower() in vowel:\n",
    "    print(\"Letter\", letter, \"is Vowel.\")\n",
    "else:\n",
    "    print(\"Letter\", letter, \"is not Vowel.\")"
   ]
  },
  {
   "cell_type": "code",
   "execution_count": 10,
   "metadata": {},
   "outputs": [
    {
     "name": "stdout",
     "output_type": "stream",
     "text": [
      "Enter magnitude of Triangle Base: 4\n",
      "Enter magnitude of Triangle Height: 4\n",
      "\n",
      "Area of the Triangle with Height 4.0 and Base 4.0 is = 8.0.\n"
     ]
    }
   ],
   "source": [
    "# Q-9 - Triangle Area\n",
    "\n",
    "base = float(input(\"Enter magnitude of Triangle Base: \"))\n",
    "height = float(input(\"Enter magnitude of Triangle Height: \"))\n",
    "area = (1 / 2) * base * height\n",
    "print(\"\\nArea of the Triangle with Height \" + str(height) + \" and Base \" + str(base) + \" is = \" + str(area) + \".\")"
   ]
  },
  {
   "cell_type": "code",
   "execution_count": 11,
   "metadata": {},
   "outputs": [
    {
     "name": "stdout",
     "output_type": "stream",
     "text": [
      "Please enter principal amount: 10000\n",
      "Please Enter Rate of interest in %: 0.1\n",
      "Enter number of years for investment: 5\n",
      "\n",
      "After 5 years your principal amount 10000.0 over an interest rate of 0.1% will be 16105.1.\n"
     ]
    }
   ],
   "source": [
    "# Q-10 - Calculate Interest\n",
    "\n",
    "initial_amount = float(input(\"Please enter principal amount: \"))\n",
    "rate_of_interest = float(input(\"Please Enter Rate of interest in %: \"))\n",
    "number_of_years = int(input(\"Enter number of years for investment: \"))\n",
    "interest = initial_amount\n",
    "for i in range(number_of_years):\n",
    "    x = interest * rate_of_interest\n",
    "    interest = interest + x\n",
    "    i += 1\n",
    "print(\"\\nAfter \" + str(number_of_years) + \" years your principal amount \" + str(initial_amount) + \n",
    "      \" over an interest rate of \" + str(rate_of_interest) + \"% will be \" + str(interest) + \".\")"
   ]
  },
  {
   "cell_type": "code",
   "execution_count": 12,
   "metadata": {},
   "outputs": [
    {
     "name": "stdout",
     "output_type": "stream",
     "text": [
      "Enter Co-ordinate for x1: 2\n",
      "Enter Co-ordinate for x2: 4\n",
      "Enter Co-ordinate for y1: 4\n",
      "Enter Co-ordinate for y2: 4\n",
      "\n",
      "Distance between points (2, 4) and (4, 4) is 2.0.\n"
     ]
    }
   ],
   "source": [
    "# Q-11 - Euclidean distance\n",
    "\n",
    "x1 = int(input(\"Enter Co-ordinate for x1: \"))\n",
    "x2 = int(input(\"Enter Co-ordinate for x2: \"))\n",
    "y1 = int(input(\"Enter Co-ordinate for y1: \"))\n",
    "y2 = int(input(\"Enter Co-ordinate for y2: \"))\n",
    "p = (x1, y1)\n",
    "q = (x2, y2)\n",
    "d = (((x2 - x1) ** 2) + ((y2 - y1) ** 2)) ** 0.5\n",
    "print(\"\\nDistance between points \" + str(p) + \" and \" + str(q) + \" is \" + str(d) + \".\")"
   ]
  },
  {
   "cell_type": "code",
   "execution_count": 13,
   "metadata": {},
   "outputs": [
    {
     "name": "stdout",
     "output_type": "stream",
     "text": [
      "Enter Height in Feet: 5\n",
      "\n",
      "There are 152.4 cm in 5.0 ft.\n"
     ]
    }
   ],
   "source": [
    "# Q-12 - Feet to Centimeter Converter\n",
    "\n",
    "feet = float(input(\"Enter Height in Feet: \"))\n",
    "cm = feet * 30.48\n",
    "print(\"\\nThere are \" + str(cm) + \" cm in \" + str(feet) + \" ft.\" )"
   ]
  },
  {
   "cell_type": "code",
   "execution_count": 14,
   "metadata": {},
   "outputs": [
    {
     "name": "stdout",
     "output_type": "stream",
     "text": [
      "Enter Height in cm: 180\n",
      "Enter Weight in Kg: 75\n",
      "\n",
      "Your BMI is  23.15.\n"
     ]
    }
   ],
   "source": [
    "# Q-13 - BMI Calculator\n",
    "\n",
    "height_cm = float(input(\"Enter Height in cm: \"))\n",
    "weight = float(input(\"Enter Weight in Kg: \"))\n",
    "height = height_cm / 100\n",
    "bmi = weight / (height ** 2)\n",
    "print(\"\\nYour BMI is \", \"{0:.2f}\".format(bmi) + \".\")"
   ]
  },
  {
   "cell_type": "code",
   "execution_count": 15,
   "metadata": {},
   "outputs": [
    {
     "name": "stdout",
     "output_type": "stream",
     "text": [
      "Enter value of n: 5\n",
      "Sum of n Positive integers till 5 is 15.\n"
     ]
    }
   ],
   "source": [
    "# Q-14 - Sum of n Positive Integers\n",
    "\n",
    "n = int(input(\"Enter value of n: \"))\n",
    "a = 0\n",
    "if n >= 0:\n",
    "    for i in range(n + 1):\n",
    "        a = a + i\n",
    "        i += 1\n",
    "print(\"Sum of n Positive integers till \" + str(n) + \" is \" + str(a) + \".\")"
   ]
  },
  {
   "cell_type": "code",
   "execution_count": 16,
   "metadata": {},
   "outputs": [
    {
     "name": "stdout",
     "output_type": "stream",
     "text": [
      "Enter a number: 1234\n",
      "\n",
      "Sum of 1+2+3+4 is 10."
     ]
    }
   ],
   "source": [
    "# Q-15 - Digits Sum of a Number\n",
    "\n",
    "a = input(\"Enter a number: \")\n",
    "b = []\n",
    "d = 0\n",
    "for i in a:\n",
    "    c = int(a[d])\n",
    "    b.append(c)\n",
    "    d += 1\n",
    "f = sum(b)\n",
    "print(\"\\nSum of \", end = \"\")\n",
    "print(*b, sep = \"+\", end = \" \")\n",
    "print(\"is\", str(f), end = \".\")"
   ]
  },
  {
   "cell_type": "code",
   "execution_count": 17,
   "metadata": {},
   "outputs": [
    {
     "name": "stdout",
     "output_type": "stream",
     "text": [
      "Enter a Decimal number: 32\n",
      "\n",
      "Binary Representation of 32 is 100000."
     ]
    }
   ],
   "source": [
    "# Q-16 - Decimal to Binary Converter\n",
    "\n",
    "input_number = int(input(\"Enter a Decimal number: \"))\n",
    "m = input_number\n",
    "check = []\n",
    "while input_number != 0:\n",
    "    rem = input_number % 2\n",
    "    check.insert(0,rem)\n",
    "    input_number = input_number // 2\n",
    "print(\"\\nBinary Representation of \" + str(m) + \" is \", end = \"\")\n",
    "print(*check, sep = \"\", end = \".\")"
   ]
  },
  {
   "cell_type": "code",
   "execution_count": 18,
   "metadata": {},
   "outputs": [
    {
     "name": "stdout",
     "output_type": "stream",
     "text": [
      "Enter a Binary number: 1101\n",
      "\n",
      "Decimal Representation of 1101 is 13.\n"
     ]
    }
   ],
   "source": [
    "# Q-17 - Binary to Decimal Converter\n",
    "\n",
    "binary = input(\"Enter a Binary number: \")\n",
    "num = len(binary)\n",
    "dec = 0\n",
    "sum_dec = []\n",
    "check = []\n",
    "rev = ''.join(reversed(binary))\n",
    "for i in range(num):\n",
    "    dec = int(rev[i]) * (2 ** i)\n",
    "    sum_dec.insert(0, dec)\n",
    "print(\"\\nDecimal Representation of \" + binary + \" is \" + str(sum(sum_dec)) + \".\")"
   ]
  },
  {
   "cell_type": "code",
   "execution_count": 19,
   "metadata": {},
   "outputs": [
    {
     "name": "stdout",
     "output_type": "stream",
     "text": [
      "Enter the text: QuickBrownFoxJumpsovertheDog\n",
      "Vowels: 9\n",
      "Consonants: 19\n"
     ]
    }
   ],
   "source": [
    "# Q-18 - Vowel and Consonants Counter\n",
    "\n",
    "text = input(\"Enter the text: \")\n",
    "vowel = [\"a\", \"e\", \"i\", \"o\", \"u\"]\n",
    "vowels = 0\n",
    "consonants = 0\n",
    "for i in text:\n",
    "    if i.lower() in vowel:\n",
    "        vowels += 1\n",
    "    else:\n",
    "        consonants += 1\n",
    "print(\"Vowels:\", vowels)\n",
    "print(\"Consonants:\", consonants)"
   ]
  },
  {
   "cell_type": "code",
   "execution_count": 20,
   "metadata": {},
   "outputs": [
    {
     "name": "stdout",
     "output_type": "stream",
     "text": [
      "Enter text: AHA\n",
      "Text AHA is a Palindrome.\n"
     ]
    }
   ],
   "source": [
    "# Q-19 - Palindrome tester\n",
    "\n",
    "word = input(\"Enter text: \")\n",
    "#a = isPalindrome(word)\n",
    "rev = ''.join(reversed(word))\n",
    "if (word.lower() == rev.lower()):\n",
    "    print(\"Text \" + word + \" is a Palindrome.\")\n",
    "else:\n",
    "    print(\"Text \" + word + \" is not a Palindrome.\")"
   ]
  },
  {
   "cell_type": "code",
   "execution_count": 21,
   "metadata": {},
   "outputs": [
    {
     "name": "stdout",
     "output_type": "stream",
     "text": [
      "Enter text: Python 3.2\n",
      "Alphabets = 6\n",
      "Numbers = 2\n",
      "Spaces = 1\n",
      "Special Characters = 1\n"
     ]
    }
   ],
   "source": [
    "# Q-20 - Count Alphabets, Numbers and Special Characters\n",
    "\n",
    "sentence = input(\"Enter text: \")\n",
    "alphabets = 0\n",
    "numbers = 0\n",
    "spaces = 0\n",
    "characters = 0\n",
    "for i in sentence:\n",
    "    if (i.lower()).isalpha():\n",
    "        alphabets += 1\n",
    "    elif i.isdigit():\n",
    "        numbers += 1\n",
    "    elif i.isspace():\n",
    "        spaces += 1\n",
    "    else:\n",
    "        characters += 1\n",
    "print(\"Alphabets =\" ,alphabets)\n",
    "print(\"Numbers =\", numbers)\n",
    "print(\"Spaces =\", spaces)\n",
    "print(\"Special Characters =\", characters)"
   ]
  },
  {
   "cell_type": "code",
   "execution_count": 22,
   "metadata": {},
   "outputs": [
    {
     "name": "stdout",
     "output_type": "stream",
     "text": [
      "*\n",
      "* *\n",
      "* * *\n",
      "* * * *\n",
      "* * * * *\n",
      "* * * *\n",
      "* * *\n",
      "* *\n",
      "*\n",
      "\n"
     ]
    }
   ],
   "source": [
    "# Q-21\n",
    "\n",
    "a = []\n",
    "for i in range(1,6):\n",
    "    a.append(\"*\")\n",
    "    print(*a,sep =\" \")\n",
    "b = a[:]\n",
    "for j in range(len(b)):\n",
    "    b.pop()\n",
    "    print(*b, sep = \" \")"
   ]
  },
  {
   "cell_type": "code",
   "execution_count": 23,
   "metadata": {},
   "outputs": [
    {
     "name": "stdout",
     "output_type": "stream",
     "text": [
      "1\n",
      "1 2\n",
      "1 2 3\n",
      "1 2 3 4\n",
      "1 2 3 4 5\n",
      "1 2 3 4\n",
      "1 2 3\n",
      "1 2\n",
      "1\n",
      "\n"
     ]
    }
   ],
   "source": [
    "# Q-22\n",
    "\n",
    "a = []\n",
    "for i in range(1,6):\n",
    "    a.append(i)\n",
    "    print(*a,sep =\" \")\n",
    "b = a[:]\n",
    "for j in range(len(b)):\n",
    "    b.pop()\n",
    "    print(*b, sep = \" \")"
   ]
  },
  {
   "cell_type": "code",
   "execution_count": 24,
   "metadata": {},
   "outputs": [
    {
     "name": "stdout",
     "output_type": "stream",
     "text": [
      "1\n",
      "22\n",
      "333\n",
      "4444\n",
      "55555\n",
      "666666\n",
      "7777777\n",
      "88888888\n",
      "999999999\n"
     ]
    }
   ],
   "source": [
    "# Q-23\n",
    "\n",
    "a = []\n",
    "for i in range(1,10):\n",
    "    for j in range(i):\n",
    "        print(i, sep = \"\", end = \"\")\n",
    "    print()\n",
    "    i += 1"
   ]
  }
 ],
 "metadata": {
  "kernelspec": {
   "display_name": "Python 3",
   "language": "python",
   "name": "python3"
  },
  "language_info": {
   "codemirror_mode": {
    "name": "ipython",
    "version": 3
   },
   "file_extension": ".py",
   "mimetype": "text/x-python",
   "name": "python",
   "nbconvert_exporter": "python",
   "pygments_lexer": "ipython3",
   "version": "3.7.2"
  }
 },
 "nbformat": 4,
 "nbformat_minor": 2
}
