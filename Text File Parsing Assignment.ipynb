{
 "cells": [
  {
   "cell_type": "markdown",
   "metadata": {},
   "source": [
    "# Text File Parsing Assignment"
   ]
  },
  {
   "cell_type": "markdown",
   "metadata": {},
   "source": [
    "Mohsin Ahmed\n",
    "AIC035346 (12:15 - 03:15)"
   ]
  },
  {
   "cell_type": "code",
   "execution_count": 2,
   "metadata": {},
   "outputs": [
    {
     "name": "stdout",
     "output_type": "stream",
     "text": [
      "Enter the file name with extension to process: sample_text_file.txt4\n",
      "\n",
      "The entered file name is: sample_text_file.txt4\n",
      "\n",
      "The number of words contained in the file: sample_text_file.txt4, is = 38128.\n",
      "\n",
      "The number of lines contained in the file: sample_text_file.txt4, is = 4821.\n",
      "\n",
      "The number of paragraphs contained in the file: sample_text_file.txt4, is = 1.\n",
      "\n",
      "The number of characters contained in the file: sample_text_file.txt4, is = 82864.\n",
      "\n",
      "The number of spaces contained in the file: sample_text_file.txt4, is = 54320.\n",
      "\n",
      "The number of tabs contained in the file: sample_text_file.txt4, is = 34.\n"
     ]
    }
   ],
   "source": [
    "file = input(\"Enter the file name with extension to process: \")\n",
    "\n",
    "print(\"\\nThe entered file name is: \" + file)\n",
    "\n",
    "def number_of_words(file):\n",
    "    with open(file, 'r', encoding='utf-8') as file_obj:\n",
    "        content = file_obj.read()\n",
    "        words = content.split()\n",
    "        print(\"\\nThe number of words contained in the file: \" + file + \", is = \" + str(len(words)) + \".\")\n",
    "        \n",
    "def number_of_paragraph_line(file):\n",
    "    with open(file, 'r', encoding='utf-8') as file_obj:\n",
    "        linecount = 0\n",
    "        paragraphcount = 0\n",
    "        empty = True\n",
    "        for i in file_obj:\n",
    "            if '\\n' in i:\n",
    "                linecount += 1\n",
    "                if len(i) < 2:\n",
    "                    empty = True\n",
    "                elif len(i) > 2 and empty is True:\n",
    "                    paragraphcount = paragraphcount + 1\n",
    "                    empty = False\n",
    "                if empty is True:\n",
    "                    paragraphnumber = 0\n",
    "                else:\n",
    "                    paragraphnumber = paragraphcount\n",
    "        print(\"\\nThe number of lines contained in the file: \" + \n",
    "              file + \", is = \" + str(linecount) + \".\")\n",
    "        print(\"\\nThe number of paragraphs contained in the file: \" + \n",
    "              file + \", is = \" + str(paragraphcount) + \".\")\n",
    "\n",
    "def number_of_character_and_space(file):\n",
    "    with open(file, 'r', encoding='utf-8') as file_obj:\n",
    "        content_c = file_obj.read()\n",
    "        space = content_c.count(' ')\n",
    "        character = len(content_c) - space\n",
    "        tabs = content_c.count('\\t')\n",
    "        print(\"\\nThe number of characters contained in the file: \" + file + \", is = \" + str(character) + \".\")\n",
    "        print(\"\\nThe number of spaces contained in the file: \" + file + \", is = \" + str(space) + \".\")\n",
    "        print(\"\\nThe number of tabs contained in the file: \" + file + \", is = \" + str(tabs) + \".\")\n",
    "\n",
    "number_of_words(file)\n",
    "number_of_paragraph_line(file)\n",
    "number_of_character_and_space(file)"
   ]
  }
 ],
 "metadata": {
  "kernelspec": {
   "display_name": "Python 3",
   "language": "python",
   "name": "python3"
  },
  "language_info": {
   "codemirror_mode": {
    "name": "ipython",
    "version": 3
   },
   "file_extension": ".py",
   "mimetype": "text/x-python",
   "name": "python",
   "nbconvert_exporter": "python",
   "pygments_lexer": "ipython3",
   "version": "3.7.3"
  }
 },
 "nbformat": 4,
 "nbformat_minor": 2
}
